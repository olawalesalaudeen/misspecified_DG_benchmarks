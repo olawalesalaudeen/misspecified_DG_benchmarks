{
  "nbformat": 4,
  "nbformat_minor": 0,
  "metadata": {
    "colab": {
      "provenance": []
    },
    "kernelspec": {
      "name": "python3",
      "display_name": "Python 3"
    },
    "language_info": {
      "name": "python"
    }
  },
  "cells": [
    {
      "cell_type": "code",
      "source": [
        "n_samples = 50000\n",
        "n_plot_samples = 100\n",
        "n_features = 2\n",
        "mu_c = np.array([1, 1])\n",
        "mu_e = np.array([1, 1])\n",
        "Sigma_c = np.array([[1, 0.0], [0.0, 1]])\n",
        "Sigma_e = np.array([[1, 0.0], [0.0, 1]])\n",
        "\n",
        "p_y1 = 0.5\n",
        "p_noise = 0.25\n",
        "\n",
        "n_Ms = 50"
      ],
      "metadata": {
        "id": "HAXC5fqePGHF"
      },
      "execution_count": null,
      "outputs": []
    },
    {
      "cell_type": "code",
      "execution_count": null,
      "metadata": {
        "id": "snrcJqgMO65E"
      },
      "outputs": [],
      "source": [
        "import numpy as np\n",
        "import pandas as pd\n",
        "from matplotlib import rcParams\n",
        "import matplotlib.pyplot as plt\n",
        "import seaborn as sns\n",
        "from sklearn.linear_model import LogisticRegression\n",
        "from sklearn.metrics import accuracy_score\n",
        "\n",
        "import random\n",
        "\n",
        "random.seed(1234)\n",
        "np.random.seed(1234)"
      ]
    },
    {
      "cell_type": "code",
      "source": [
        "def generate_distribution(M=np.eye(n_features)):\n",
        "    Y_true = np.random.choice([-1, 1], p=[1-p_y1, p_y1], size=n_samples)\n",
        "    noise = np.random.choice([-1, 1], p=[p_noise, 1-p_noise], size=n_samples)\n",
        "    Y = Y_true * noise\n",
        "\n",
        "    Z_c = Y_true.reshape(-1,1)*np.random.multivariate_normal(mu_c, Sigma_c, n_samples)\n",
        "    Z_e = Y.reshape(-1,1)*np.random.multivariate_normal(M@mu_e, M@Sigma_e@M.T, n_samples)\n",
        "    X = np.hstack((Z_c, Z_e))\n",
        "\n",
        "    return {'X': X, 'Y': Y, 'Zc': Z_c, 'Ze': Z_e}\n"
      ],
      "metadata": {
        "id": "XGBBye2pPJOC"
      },
      "execution_count": null,
      "outputs": []
    },
    {
      "cell_type": "code",
      "source": [
        "def train_and_test_model(X, Y, test_list):\n",
        "    clf = LogisticRegression(random_state=0).fit(X, Y)\n",
        "    res = [accuracy_score(Y, clf.predict(X)) for X, Y in test_list]\n",
        "    return clf, res"
      ],
      "metadata": {
        "id": "tAeWLtHDRz93"
      },
      "execution_count": null,
      "outputs": []
    },
    {
      "cell_type": "code",
      "source": [
        "def generate_pd_nd_pair(n, bound=10):\n",
        "    \"\"\"\n",
        "    Generate a pair of positive definite (PD) and negative definite (ND) matrices with bounded norms.\n",
        "\n",
        "    Parameters:\n",
        "    - n: int\n",
        "        The size of the matrices (n x n).\n",
        "    - bound: float\n",
        "        The maximum absolute value for the norm of the matrices.\n",
        "\n",
        "    Returns:\n",
        "    - list of numpy.ndarray\n",
        "        A list containing the positive definite and negative definite matrices.\n",
        "    \"\"\"\n",
        "    # Generate a random symmetric matrix\n",
        "    A = np.random.randn(n, n)\n",
        "    symmetric_matrix = (A + A.T) / 2  # Make it symmetric\n",
        "\n",
        "    # Positive definite matrix\n",
        "    eig_values = np.abs(np.linalg.eigvals(symmetric_matrix)) + 0.1  # Ensure positive eigenvalues\n",
        "    pd_matrix = symmetric_matrix @ np.diag(eig_values) @ symmetric_matrix.T\n",
        "\n",
        "    # Normalize the PD matrix to have a norm of 1\n",
        "    norm_pd = np.linalg.norm(pd_matrix, ord='fro')  # Frobenius norm\n",
        "    pd_matrix = (pd_matrix / norm_pd) * bound  # Scale to the desired bound\n",
        "\n",
        "    # Negative definite matrix\n",
        "    nd_matrix = -pd_matrix  # Negate to make eigenvalues negative\n",
        "\n",
        "    return [pd_matrix, nd_matrix]\n",
        "\n",
        "def generate_Ms(n, d):\n",
        "    Ms = []\n",
        "    for i in range(d // 2):\n",
        "        M = generate_pd_nd_pair(n)\n",
        "        Ms += M\n",
        "    return Ms"
      ],
      "metadata": {
        "id": "dgEPZT60UOLt"
      },
      "execution_count": null,
      "outputs": []
    },
    {
      "cell_type": "code",
      "source": [
        "def get_inners(M, clf):\n",
        "    \"\"\"\n",
        "    Compute w^T (M * mu_e) for a given matrix M and a trained classifier clf.\n",
        "\n",
        "    Parameters:\n",
        "    - M: numpy.ndarray, shape (n_samples, n_features)\n",
        "        The input matrix where rows are samples and columns are features.\n",
        "    - clf: Trained sklearn classifier\n",
        "        A trained classifier with coef_ and intercept_ attributes.\n",
        "\n",
        "    Returns:\n",
        "    - numpy.ndarray, shape (n_samples,)\n",
        "        The inner product w^T (M * mu_e) for each sample in M.\n",
        "    \"\"\"\n",
        "    global mu_e, Sigma_e  # Access the global variables\n",
        "\n",
        "    # Validate dimensions of mu_e and Sigma_e\n",
        "    if M.shape[1] != mu_e.shape[0]:\n",
        "        raise ValueError(\"mu_e size must match the number of features in M.\")\n",
        "    if Sigma_e.shape[0] != M.shape[1] or Sigma_e.shape[1] != M.shape[1]:\n",
        "        raise ValueError(\"Sigma_e dimensions must match (n_features, n_features).\")\n",
        "\n",
        "    # Element-wise multiply M with mu_e\n",
        "    M_mu_e = M @ mu_e  # Shape: (n_samples, n_features)\n",
        "\n",
        "    # Compute w^T (M * mu_e)\n",
        "    coef = clf.coef_[:, n_features:].flatten()  # Shape (n_features,)\n",
        "    intercept = clf.intercept_[0]  # Shape ()\n",
        "    inner_product = coef.T@M_mu_e  # + intercept  # Shape: (n_samples,)\n",
        "\n",
        "    # Compute sqrt(2 * w^T M Sigma_e M^T w) without intercept\n",
        "    variance_sqrt = np.sqrt(2 * coef.T@M@Sigma_e@M.T@coef)  # Shape: (n_samples,)\n",
        "\n",
        "    return inner_product, variance_sqrt"
      ],
      "metadata": {
        "id": "jQ8areTAVahG"
      },
      "execution_count": null,
      "outputs": []
    },
    {
      "cell_type": "code",
      "source": [
        "Ms = [np.eye(n_features)] + generate_Ms(n_features, n_Ms)\n",
        "\n",
        "len(Ms)\n",
        "\n",
        "source_distribution = generate_distribution()\n",
        "target_distributions = [generate_distribution(M) for M in Ms]"
      ],
      "metadata": {
        "id": "MkWxlcuHUgVU"
      },
      "execution_count": null,
      "outputs": []
    },
    {
      "cell_type": "code",
      "source": [
        "test_data = [(d['X'], d['Y']) for d in target_distributions]\n",
        "dg_test_data = [(d['Zc'], d['Y']) for d in target_distributions]\n",
        "clf, res = train_and_test_model(source_distribution['X'], source_distribution['Y'], test_data)\n",
        "_, dg_res = train_and_test_model(source_distribution['Zc'], source_distribution['Y'], dg_test_data)"
      ],
      "metadata": {
        "id": "HOjYRd5SQtwM"
      },
      "execution_count": null,
      "outputs": []
    },
    {
      "cell_type": "code",
      "source": [
        "x = [get_inners(M, clf) for M in Ms]"
      ],
      "metadata": {
        "id": "M4y0QlFfVw1O"
      },
      "execution_count": null,
      "outputs": []
    },
    {
      "cell_type": "code",
      "source": [
        "plt.figure(figsize=(5, 3))\n",
        "# Condition\n",
        "cond = [np.abs(i[0]) >= i[1] for i in x]  # Example condition based on x\n",
        "\n",
        "# Separate the points based on the condition for `res`\n",
        "plt.scatter([i[0] for i in x], res, marker='x', label=r'$f_{X}^*$',)\n",
        "\n",
        "# Single scatter plot for `dg_res`\n",
        "plt.scatter([i[0] for i in x], dg_res, marker='o', facecolors='none', edgecolors='orange', label=r'$f_{dg}^*$')\n",
        "\n",
        "plt.axvline(0, linestyle=':', color='black')\n",
        "plt.xlabel(r'$w_{spu}^TM\\mu_{spu}$', fontsize=14)\n",
        "plt.ylabel('transfer accuracy', fontsize=14)\n",
        "plt.legend(fontsize=14)\n",
        "rcParams['xtick.labelsize'] = 12  # Set x-tick font size to 12\n",
        "rcParams['ytick.labelsize'] = 12  # Set y-tick font size to 12\n",
        "plt.tight_layout()\n",
        "\n",
        "\n",
        "plt.savefig('guass_sim.pdf', format='pdf', dpi=300)\n"
      ],
      "metadata": {
        "colab": {
          "base_uri": "https://localhost:8080/",
          "height": 307
        },
        "id": "8rSHksXCTcBt",
        "outputId": "00014976-e4c5-4b87-e8c9-d61dfae79083"
      },
      "execution_count": null,
      "outputs": [
        {
          "output_type": "display_data",
          "data": {
            "text/plain": [
              "<Figure size 500x300 with 1 Axes>"
            ],
            "image/png": "[encoded data removed]"
          },
          "metadata": {}
        }
      ]
    },
    {
      "cell_type": "code",
      "source": [],
      "metadata": {
        "id": "N88FSF-Md9JY"
      },
      "execution_count": null,
      "outputs": []
    }
  ]
}